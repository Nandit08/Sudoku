{
 "cells": [
  {
   "cell_type": "code",
   "execution_count": 2,
   "metadata": {
    "collapsed": true
   },
   "outputs": [],
   "source": [
    "board = [\n",
    "    [5,0,0,0,0,0,0,0,1],\n",
    "    [0,9,4,0,0,0,5,8,0],\n",
    "    [0,0,1,9,0,7,2,0,0],\n",
    "    [0,0,9,0,3,0,4,0,0],\n",
    "    [0,5,0,6,0,4,0,7,0],\n",
    "    [0,0,2,0,8,0,6,0,0],\n",
    "    [0,0,8,1,0,2,7,0,0],\n",
    "    [0,2,5,0,0,0,1,3,0],\n",
    "    [9,0,0,0,0,0,0,0,6]\n",
    "]\n",
    "\n",
    "\n",
    "def solve(bo):\n",
    "#     print(bo)\n",
    "    find = find_empty(bo)\n",
    "    if not find:\n",
    "        return True\n",
    "    else:\n",
    "        row, col = find\n",
    "\n",
    "    for i in range(1,10):\n",
    "        if valid(bo, i, (row, col)):\n",
    "            bo[row][col] = i\n",
    "\n",
    "            if solve(bo):\n",
    "                return True\n",
    "\n",
    "            bo[row][col] = 0\n",
    "\n",
    "    return False\n",
    "\n",
    "\n",
    "def valid(bo, num, pos):\n",
    "    # Check row\n",
    "    for i in range(len(bo[0])):\n",
    "        if bo[pos[0]][i] == num and pos[1] != i:\n",
    "            return False\n",
    "\n",
    "    # Check column\n",
    "    for i in range(len(bo)):\n",
    "        if bo[i][pos[1]] == num and pos[0] != i:\n",
    "            return False\n",
    "\n",
    "    # Check box\n",
    "    box_x = pos[1] // 3\n",
    "    box_y = pos[0] // 3\n",
    "\n",
    "    for i in range(box_y*3, box_y*3 + 3):\n",
    "        for j in range(box_x * 3, box_x*3 + 3):\n",
    "            if bo[i][j] == num and (i,j) != pos:\n",
    "                return False\n",
    "\n",
    "    return True\n",
    "\n"
   ]
  },
  {
   "cell_type": "code",
   "execution_count": 3,
   "metadata": {},
   "outputs": [
    {
     "name": "stdout",
     "output_type": "stream",
     "text": [
      "5 0 0  | 0 0 0  | 0 0 1\n",
      "0 9 4  | 0 0 0  | 5 8 0\n",
      "0 0 1  | 9 0 7  | 2 0 0\n",
      "- - - - - - - - - - - - - \n",
      "0 0 9  | 0 3 0  | 4 0 0\n",
      "0 5 0  | 6 0 4  | 0 7 0\n",
      "0 0 2  | 0 8 0  | 6 0 0\n",
      "- - - - - - - - - - - - - \n",
      "0 0 8  | 1 0 2  | 7 0 0\n",
      "0 2 5  | 0 0 0  | 1 3 0\n",
      "9 0 0  | 0 0 0  | 0 0 6\n",
      "___________________\n",
      "5 7 6  | 4 2 8  | 3 9 1\n",
      "2 9 4  | 3 6 1  | 5 8 7\n",
      "3 8 1  | 9 5 7  | 2 6 4\n",
      "- - - - - - - - - - - - - \n",
      "7 6 9  | 2 3 5  | 4 1 8\n",
      "8 5 3  | 6 1 4  | 9 7 2\n",
      "1 4 2  | 7 8 9  | 6 5 3\n",
      "- - - - - - - - - - - - - \n",
      "6 3 8  | 1 9 2  | 7 4 5\n",
      "4 2 5  | 8 7 6  | 1 3 9\n",
      "9 1 7  | 5 4 3  | 8 2 6\n"
     ]
    }
   ],
   "source": [
    "\n",
    "def print_board(bo):\n",
    "    for i in range(len(bo)):\n",
    "        if i % 3 == 0 and i != 0:\n",
    "            print(\"- - - - - - - - - - - - - \")\n",
    "\n",
    "        for j in range(len(bo[0])):\n",
    "            if j % 3 == 0 and j != 0:\n",
    "                print(\" | \", end=\"\")\n",
    "\n",
    "            if j == 8:\n",
    "                print(bo[i][j])\n",
    "            else:\n",
    "                print(str(bo[i][j]) + \" \", end=\"\")\n",
    "\n",
    "\n",
    "def find_empty(bo):\n",
    "    for i in range(len(bo)):\n",
    "        for j in range(len(bo[0])):\n",
    "            if bo[i][j] == 0:\n",
    "                return (i, j)  # row, col\n",
    "\n",
    "    return None\n",
    "print_board(board)\n",
    "solve(board)\n",
    "print(\"___________________\")\n",
    "print_board(board)"
   ]
  },
  {
   "cell_type": "code",
   "execution_count": 8,
   "metadata": {},
   "outputs": [
    {
     "name": "stdout",
     "output_type": "stream",
     "text": [
      "3.0\n"
     ]
    }
   ],
   "source": []
  }
 ],
 "metadata": {
  "kernelspec": {
   "display_name": "Python 3",
   "language": "python",
   "name": "python3"
  }
 },
 "nbformat": 4,
 "nbformat_minor": 2
}
